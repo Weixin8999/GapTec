{
 "cells": [
  {
   "cell_type": "code",
   "execution_count": 51,
   "metadata": {},
   "outputs": [],
   "source": [
    "import librosa\n",
    "import IPython.display as ipd\n",
    "import matplotlib.pyplot as plt\n",
    "import pandas as pd\n",
    "import librosa.display\n",
    "import numpy as np\n",
    "import sklearn\n",
    "import ctypes\n",
    "import os \n",
    "import os.path\n",
    "import sys"
   ]
  },
  {
   "cell_type": "code",
   "execution_count": 52,
   "metadata": {},
   "outputs": [
    {
     "name": "stdout",
     "output_type": "stream",
     "text": [
      "/Users/lwx8999/Desktop/19Winter-ECE271B/Project/dataSet/BENDING_UP\n",
      "/Users/lwx8999/Desktop/19Winter-ECE271B/Project/dataSet/TRILL\n",
      "/Users/lwx8999/Desktop/19Winter-ECE271B/Project/dataSet/SLIDE\n",
      "/Users/lwx8999/Desktop/19Winter-ECE271B/Project/dataSet/MUTE\n",
      "/Users/lwx8999/Desktop/19Winter-ECE271B/Project/dataSet/HAMMING\n",
      "/Users/lwx8999/Desktop/19Winter-ECE271B/Project/dataSet/NORMAL\n",
      "/Users/lwx8999/Desktop/19Winter-ECE271B/Project/dataSet/PULLING\n"
     ]
    }
   ],
   "source": [
    "numDirs = 0\n",
    "types = []\n",
    "path = \"/Users/lwx8999/Desktop/19Winter-ECE271B/Project/dataSet/\"\n",
    "for dirpath, dirnames, filenames in os.walk(path):\n",
    "        for name in dirnames:\n",
    "                types.append(os.path.join(dirpath, name))\n",
    "                numDirs += 1\n",
    "                print (os.path.join(dirpath, name))\n"
   ]
  },
  {
   "cell_type": "code",
   "execution_count": 53,
   "metadata": {},
   "outputs": [],
   "source": [
    "numFiles = []\n",
    "names = [[],[],[],[],[],[],[]]\n",
    "for i in range(numDirs):\n",
    "    path = types[i]\n",
    "    for dirpath, dirnames, filenames in os.walk(path):\n",
    "        numType = 0\n",
    "        for each in filenames:\n",
    "            names[i].append(os.path.join(dirpath, each))\n",
    "            numType += 1\n",
    "        numFiles.append(numType)"
   ]
  },
  {
   "cell_type": "code",
   "execution_count": 54,
   "metadata": {},
   "outputs": [],
   "source": [
    "trainLabels = []\n",
    "for i in range(numDirs):\n",
    "    for j in range(numFiles[i]):\n",
    "        trainLabels.append(i)"
   ]
  },
  {
   "cell_type": "code",
   "execution_count": 55,
   "metadata": {},
   "outputs": [],
   "source": [
    "trainSounds = []\n",
    "for i in range(numDirs):\n",
    "    for j in range(numFiles[i]):\n",
    "        path = names[i][j]\n",
    "        x, sr = librosa.load(path, sr=44100)\n",
    "        mfccs = librosa.feature.mfcc(x, sr=sr)\n",
    "        mfccs = mfccs.reshape(520)\n",
    "        trainSounds.append(mfccs)"
   ]
  },
  {
   "cell_type": "code",
   "execution_count": 56,
   "metadata": {},
   "outputs": [],
   "source": [
    "file = pd.DataFrame(data = trainSounds)\n",
    "file.to_csv('data.csv',encoding='utf-8')"
   ]
  },
  {
   "cell_type": "code",
   "execution_count": 57,
   "metadata": {},
   "outputs": [],
   "source": [
    "label = pd.DataFrame(data = trainLabels)\n",
    "label.to_csv('label.csv',encoding='utf-8')"
   ]
  },
  {
   "cell_type": "code",
   "execution_count": null,
   "metadata": {},
   "outputs": [],
   "source": []
  }
 ],
 "metadata": {
  "kernelspec": {
   "display_name": "Python 3",
   "language": "python",
   "name": "python3"
  },
  "language_info": {
   "codemirror_mode": {
    "name": "ipython",
    "version": 3
   },
   "file_extension": ".py",
   "mimetype": "text/x-python",
   "name": "python",
   "nbconvert_exporter": "python",
   "pygments_lexer": "ipython3",
   "version": "3.7.2"
  }
 },
 "nbformat": 4,
 "nbformat_minor": 2
}
